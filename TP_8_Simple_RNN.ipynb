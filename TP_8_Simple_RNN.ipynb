{
  "nbformat": 4,
  "nbformat_minor": 0,
  "metadata": {
    "colab": {
      "private_outputs": true,
      "provenance": [],
      "authorship_tag": "ABX9TyPa8QUfgpsokg+3PrTVUGgq",
      "include_colab_link": true
    },
    "kernelspec": {
      "name": "python3",
      "display_name": "Python 3"
    },
    "language_info": {
      "name": "python"
    }
  },
  "cells": [
    {
      "cell_type": "markdown",
      "metadata": {
        "id": "view-in-github",
        "colab_type": "text"
      },
      "source": [
        "<a href=\"https://colab.research.google.com/github/manouarn/Deep-Learning/blob/main/TP_8_Simple_RNN.ipynb\" target=\"_parent\"><img src=\"https://colab.research.google.com/assets/colab-badge.svg\" alt=\"Open In Colab\"/></a>"
      ]
    },
    {
      "cell_type": "markdown",
      "source": [
        "\n",
        "TP 8: Simple **RNN**"
      ],
      "metadata": {
        "id": "xt2F9uajBH73"
      }
    },
    {
      "cell_type": "code",
      "source": [
        "text = \"An Introduction to Recurrent Neural Networks and its application\"\n",
        "chars = sorted(list(set(text)))\n",
        "char_to_index = {char: i for i, char in enumerate(chars)}\n",
        "index_to_char = {i: char for i, char in enumerate(chars)}"
      ],
      "metadata": {
        "id": "knQ-6h5EBN_r"
      },
      "execution_count": null,
      "outputs": []
    },
    {
      "cell_type": "code",
      "source": [
        "print(list(set(text)))"
      ],
      "metadata": {
        "id": "KgqlE9yKie4d"
      },
      "execution_count": null,
      "outputs": []
    },
    {
      "cell_type": "code",
      "source": [
        "seq_length = 3\n",
        "sequences = []\n",
        "labels = []\n",
        "\n",
        "for i in range(len(text) - seq_length):\n",
        "\tseq = text[i:i+seq_length]\n",
        "\tlabel = text[i+seq_length]\n",
        "\tsequences.append([char_to_index[char] for char in seq])\n",
        "\tlabels.append(char_to_index[label])\n"
      ],
      "metadata": {
        "id": "B8Mk86HFf14q"
      },
      "execution_count": null,
      "outputs": []
    },
    {
      "cell_type": "code",
      "source": [
        "import numpy as np\n",
        "import tensorflow as tf\n",
        "from tensorflow.keras.models import Sequential\n",
        "from tensorflow.keras.layers import SimpleRNN, Dense\n",
        "\n",
        "X = np.array(sequences)\n",
        "y = np.array(labels)\n",
        "\n",
        "X_one_hot = tf.one_hot(X, len(chars))\n",
        "y_one_hot = tf.one_hot(y, len(chars))\n"
      ],
      "metadata": {
        "id": "XlbJIrmuf7Xv"
      },
      "execution_count": null,
      "outputs": []
    },
    {
      "cell_type": "code",
      "source": [
        "model = Sequential()\n",
        "model.add(SimpleRNN(50, input_shape=(seq_length, len(chars)), activation='relu'))\n",
        "model.add(Dense(len(chars), activation='softmax'))\n"
      ],
      "metadata": {
        "id": "26b8_zTngj2R"
      },
      "execution_count": null,
      "outputs": []
    },
    {
      "cell_type": "code",
      "source": [
        "model.compile(optimizer='adam', loss='categorical_crossentropy', metrics=['accuracy'])\n"
      ],
      "metadata": {
        "id": "LJ-5mWmYg0RB"
      },
      "execution_count": null,
      "outputs": []
    },
    {
      "cell_type": "code",
      "source": [
        "model.fit(X_one_hot, y_one_hot, epochs=100)\n"
      ],
      "metadata": {
        "id": "EK9SkZ8qg5_f"
      },
      "execution_count": null,
      "outputs": []
    },
    {
      "cell_type": "code",
      "source": [
        "start_seq = \"An introduction\"\n",
        "generated_text = start_seq\n",
        "\n",
        "for i in range(5):\n",
        "\tx = np.array([[char_to_index[char] for char in generated_text[-seq_length:]]])\n",
        "\tx_one_hot = tf.one_hot(x, len(chars))\n",
        "\tprediction = model.predict(x_one_hot)\n",
        "\tnext_index = np.argmax(prediction)\n",
        "\tnext_char = index_to_char[next_index]\n",
        "\tgenerated_text += next_char\n",
        "\n",
        "print(\"Generated Text:\")\n",
        "print(generated_text)\n"
      ],
      "metadata": {
        "id": "iycrunzxhBUh"
      },
      "execution_count": null,
      "outputs": []
    }
  ]
}